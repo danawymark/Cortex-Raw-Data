{
  "nbformat": 4,
  "nbformat_minor": 0,
  "metadata": {
    "colab": {
      "provenance": []
    },
    "kernelspec": {
      "name": "python3",
      "display_name": "Python 3"
    },
    "language_info": {
      "name": "python"
    }
  },
  "cells": [
    {
      "cell_type": "markdown",
      "source": [
        "# Tutorial 3"
      ],
      "metadata": {
        "id": "EMMOPnbcn0yQ"
      }
    },
    {
      "cell_type": "code",
      "source": [
        "from google.colab import drive\n",
        "drive.mount('/content/drive')"
      ],
      "metadata": {
        "colab": {
          "base_uri": "https://localhost:8080/"
        },
        "id": "nXiQKWvhP7g2",
        "outputId": "2008eeb8-742f-455d-93e7-a5cbdfb5a2f0"
      },
      "execution_count": null,
      "outputs": [
        {
          "output_type": "stream",
          "name": "stdout",
          "text": [
            "Mounted at /content/drive\n"
          ]
        }
      ]
    },
    {
      "cell_type": "code",
      "source": [
        "import pandas as pd #use to manipulate data\n",
        "import matplotlib.pyplot as plt #use for interactive visualizations\n",
        "import cv2 #display image\n",
        "import numpy as np #use numpy library for matrixes, arrays\n",
        "import seaborn as sns # Statistics plotting\n",
        "\n",
        "from pathlib import Path"
      ],
      "metadata": {
        "id": "vMe9gHwKoKIW"
      },
      "execution_count": null,
      "outputs": []
    },
    {
      "cell_type": "code",
      "execution_count": null,
      "metadata": {
        "id": "MbuCkzyxmECQ"
      },
      "outputs": [],
      "source": [
        "cwd = Path(\"/content/drive/MyDrive/NICERlab/sample_results_mapping\")\n",
        "data_dir = Path(\"/content/drive/MyDrive/SVI_key1_labeled_data/\")\n",
        "\n",
        "! ls {data_dir}"
      ]
    },
    {
      "cell_type": "code",
      "source": [
        "videos = list(data_dir.glob('*/videos/*key_1.mp4'))\n",
        "dlc_files = list(data_dir.glob('*/videos/*.h5'))\n",
        "\n",
        "data = list(zip(videos, dlc_files))"
      ],
      "metadata": {
        "id": "fimESXrmolsm"
      },
      "execution_count": null,
      "outputs": []
    },
    {
      "cell_type": "code",
      "source": [
        "df = pd.DataFrame(data, columns=['video', 'dlc_file'])\n",
        "df"
      ],
      "metadata": {
        "id": "qhNFJPo4pSwn"
      },
      "execution_count": null,
      "outputs": []
    },
    {
      "cell_type": "code",
      "source": [
        "def get_name(path):\n",
        "  filename = path.parts[-1]\n",
        "  return filename[:4]\n",
        "\n",
        "df[\"name\"] = df.video.apply(get_name)\n",
        "df"
      ],
      "metadata": {
        "id": "X9bBY_JbtVz9"
      },
      "execution_count": null,
      "outputs": []
    },
    {
      "cell_type": "markdown",
      "source": [
        "## Load data"
      ],
      "metadata": {
        "id": "WNZg4p92pinu"
      }
    },
    {
      "cell_type": "code",
      "source": [
        "def load_data(dlc_file):\n",
        "  keypoints = pd.read_hdf(dlc_file) #identify key regions of an object that are used as the base to later match and identify it in a new image\n",
        "  return keypoints\n",
        "\n",
        "load_data(df.iloc[0].dlc_file)"
      ],
      "metadata": {
        "id": "nMUIOlalpoR0"
      },
      "execution_count": null,
      "outputs": []
    },
    {
      "cell_type": "markdown",
      "source": [
        "## Visualizations"
      ],
      "metadata": {
        "id": "nYK8iaH3p8PQ"
      }
    },
    {
      "cell_type": "code",
      "source": [
        "gs = plt.GridSpec(1, 2)\n",
        "\n",
        "plt.subplot(gs[0])\n",
        "keypoints = load_data(df.iloc[0].dlc_file)\n",
        "pinky_tips = keypoints.xs(\"right index tip\", level='bodyparts', axis=1).droplevel(\"scorer\", axis=1)\n",
        "plt.scatter(pinky_tips.x, pinky_tips.y)\n",
        "\n",
        "plt.subplot(gs[1])\n",
        "keypoints = load_data(df.iloc[0].dlc_file)\n",
        "pinky_tips = keypoints.xs(\"left index tip\", level='bodyparts', axis=1).droplevel(\"scorer\", axis=1)\n",
        "plt.scatter(pinky_tips.x, pinky_tips.y)"
      ],
      "metadata": {
        "id": "neT5o11QrG7H"
      },
      "execution_count": null,
      "outputs": []
    },
    {
      "cell_type": "code",
      "source": [
        "class VideoReader:\n",
        "  def __init__(self, video):\n",
        "    self.video = str(video)\n",
        "    self.pos = 0\n",
        "    self.cap = cv2.VideoCapture(self.video)\n",
        "    self.width = int(self.cap.get(cv2.CAP_PROP_FRAME_WIDTH))\n",
        "    self.height = int(self.cap.get(cv2.CAP_PROP_FRAME_HEIGHT))\n",
        "    self.fps = float(self.cap.get(cv2.CAP_PROP_FPS))\n",
        "\n",
        "  def __len__(self):\n",
        "    return int(self.cap.get(cv2.CAP_PROP_FRAME_COUNT))\n",
        "\n",
        "  def __getitem__(self, idx):\n",
        "    if self.pos != idx:\n",
        "      self.cap.set(cv2.CAP_PROP_POS_FRAMES, idx)\n",
        "      self.pos = idx\n",
        "\n",
        "    ret, frame = self.cap.read()\n",
        "    frame = np.flip(frame, axis=2)\n",
        "    self.pos += 1\n",
        "    return frame"
      ],
      "metadata": {
        "id": "Wbsau-TvfL3H"
      },
      "execution_count": null,
      "outputs": []
    },
    {
      "cell_type": "code",
      "source": [
        "ncols = 7\n",
        "nrows = 1\n",
        "\n",
        "for idx, row in df.iterrows():\n",
        "  plt.figure(figsize=(26, 8))\n",
        "  gs = plt.GridSpec(nrows=nrows, ncols=ncols)\n",
        "\n",
        "  keypoints = load_data(row.dlc_file)\n",
        "  likelihood = keypoints.xs(\"likelihood\", level=\"coords\", axis=1).droplevel(0, axis=1)\n",
        "  keypoints = keypoints.where(likelihood > 0.6)\n",
        "  # keypoints.interpolate\n",
        "  # keypoints = keypoints.iloc[200:400] # video trimming\n",
        "\n",
        "  cap = cv2.VideoCapture(str(row.video))\n",
        "  reader = VideoReader(row.video)\n",
        "  cap.set(cv2.CAP_PROP_POS_FRAMES, 300) #capture property position of frame #change back to 200 if doesnt work\n",
        "  ret, frame = cap.read()\n",
        "  frame = np.flip(frame, axis=2) # BGR -> RGB color swap #3 layers exist in matrix(video), axis 2 is 3rd layer which is where colours lie\n",
        "\n",
        "  plt.subplot(gs[0])\n",
        "  plt.ylabel(row[\"name\"])\n",
        "  plt.imshow(frame)\n",
        "\n",
        "#for right hand\n",
        "  plt.subplot(gs[1])\n",
        "  bodypart_df = keypoints.xs(\"right index tip\", level='bodyparts', axis=1).droplevel(\"scorer\", axis=1)\n",
        "  c = np.arange(keypoints.shape[0]) # COLOUR oldest to newest movement\n",
        "  plt.scatter(bodypart_df.x, bodypart_df.y, c=c)\n",
        "  plt.imshow(frame)\n",
        "\n",
        "  plt.subplot(gs[3])\n",
        "  ax = plt.gca() #get current axis (subplot)\n",
        "  deltas = bodypart_df.diff()\n",
        "  distances = np.linalg.norm(deltas[[\"x\", \"y\"]], axis=1)\n",
        "  distances = np.sqrt(deltas.x**2 + deltas.y**2)\n",
        "  sns.histplot(distances, ax=ax, bins=np.arange(20))\n",
        "\n",
        "  plt.subplot(gs[5])\n",
        "  from tqdm import tqdm\n",
        "  from scipy.stats import gaussian_kde\n",
        "\n",
        "  # make these smaller to increase the resolution\n",
        "  dx, dy = 2, 2\n",
        "\n",
        "  # generate 2 2d grids for the x & y bounds\n",
        "  w = reader.width\n",
        "  h = reader.height\n",
        "  result = {}\n",
        "\n",
        "  # Get the centroid of the bodypart by averaging the bodypart positions in each frame\n",
        "  data = bodypart_df[['y', 'x']].dropna().values.T\n",
        "\n",
        "  # Get the density of time spent in location (down sampled for 1 frame every 100)\n",
        "  k = gaussian_kde(data[:,::1], )\n",
        "  mgrid = np.mgrid[:h, :w]\n",
        "  z = k(mgrid.reshape(2, -1))\n",
        "\n",
        "\n",
        "  plt.title(\"Box Reference\")\n",
        "  plt.imshow(reader[0])\n",
        "\n",
        "  plt.title(\"Right Hand\")\n",
        "  plt.imshow(frame) # plotting a frame sets up the matplotlib axis correctly\n",
        "  plt.imshow(z.reshape(mgrid.shape[1:]))\n",
        "  plt.contourf(z.reshape(mgrid.shape[1:]), cmap='seismic', alpha=1, levels=20)\n",
        "\n",
        "\n",
        "#for left hand\n",
        "  plt.subplot(gs[2])\n",
        "  bodypart_df = keypoints.xs(\"left index tip\", level='bodyparts', axis=1).droplevel(\"scorer\", axis=1)\n",
        "  c = np.arange(keypoints.shape[0])\n",
        "  plt.scatter(bodypart_df.x, bodypart_df.y, c=c)\n",
        "  plt.imshow(frame)\n",
        "\n",
        "  plt.subplot(gs[4])\n",
        "  ax = plt.gca()\n",
        "  deltas = bodypart_df.diff()\n",
        "  distances = np.linalg.norm(deltas[[\"x\", \"y\"]], axis=1)\n",
        "  sns.histplot(distances, ax=ax, bins=np.arange(20))\n",
        "\n",
        "  plt.subplot(gs[6])\n",
        "  from tqdm import tqdm\n",
        "  from scipy.stats.kde import gaussian_kde\n",
        "\n",
        "  # make these smaller to increase the resolution\n",
        "  dx, dy = 2, 2\n",
        "\n",
        "  # generate 2 2d grids for the x & y bounds\n",
        "  w = reader.width\n",
        "  h = reader.height\n",
        "  result = {}\n",
        "\n",
        "  # Get the centroid of the bodypart by averaging the bodypart positions in each frame\n",
        "  data = bodypart_df[['y', 'x']].dropna().values.T\n",
        "\n",
        "  # Get the density of time spent in location (down sampled for 1 frame every 100)\n",
        "  k = gaussian_kde(data[:,::1], )\n",
        "  mgrid = np.mgrid[:h, :w]\n",
        "  z = k(mgrid.reshape(2, -1))\n",
        "\n",
        "\n",
        "  plt.title(\"Box Reference\")\n",
        "  plt.imshow(reader[0])\n",
        "\n",
        "  plt.title(\"Left Hand\")\n",
        "  plt.imshow(frame) # plotting a frame sets up the matplotlib axis correctly\n",
        "  plt.imshow(z.reshape(mgrid.shape[1:]))\n",
        "  plt.contourf(z.reshape(mgrid.shape[1:]), cmap='seismic', alpha=1, levels=20)\n",
        "\n",
        "  plt.show()"
      ],
      "metadata": {
        "id": "TJHG75dVpdhW"
      },
      "execution_count": null,
      "outputs": []
    }
  ]
}